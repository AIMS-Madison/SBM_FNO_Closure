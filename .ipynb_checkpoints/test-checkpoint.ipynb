{
 "cells": [
  {
   "cell_type": "code",
   "execution_count": null,
   "id": "initial_id",
   "metadata": {
    "collapsed": true,
    "is_executing": true,
    "ExecuteTime": {
     "start_time": "2024-04-21T18:40:10.482564Z"
    }
   },
   "outputs": [],
   "source": [
    "import numpy as np\n",
    "import matplotlib.pyplot as plt\n",
    "\n",
    "def runge_kutta_4th_order(f1_0, eta_max=8.0, h=0.1):\n",
    "    \"\"\"\n",
    "    Fourth-order Runge-Kutta method for the system of ODEs.\n",
    "\n",
    "    Parameters:\n",
    "    f1_0 : float\n",
    "        Initial guess for f''(0).\n",
    "    eta_max : float\n",
    "        Upper limit for eta.\n",
    "    h : float\n",
    "        Step size.\n",
    "\n",
    "    Returns:\n",
    "    f : ndarray\n",
    "        Array of f values.\n",
    "    fp : ndarray\n",
    "        Array of f' values.\n",
    "    fpp : ndarray\n",
    "        Array of f'' values.\n",
    "    eta : ndarray\n",
    "        Array of eta values.\n",
    "    \"\"\"\n",
    "    # Initial conditions\n",
    "    f = [0]\n",
    "    fp = [0]\n",
    "    fpp = [f1_0]  # f''(0) = f1_0\n",
    "    \n",
    "    # Generate eta grid\n",
    "    eta = np.arange(0, eta_max+h, h)\n",
    "\n",
    "    # Integrate using RK4\n",
    "    for i in range(1, len(eta)):\n",
    "        k1 = h * np.array([fp[-1], fpp[-1], -0.5*f[-1]*fpp[-1]])\n",
    "        k2 = h * np.array([fp[-1] + 0.5*k1[1], fpp[-1] + 0.5*k1[2], -0.5*(f[-1]+0.5*k1[0])*(fpp[-1]+0.5*k1[2])])\n",
    "        k3 = h * np.array([fp[-1] + 0.5*k2[1], fpp[-1] + 0.5*k2[2], -0.5*(f[-1]+0.5*k2[0])*(fpp[-1]+0.5*k2[2])])\n",
    "        k4 = h * np.array([fp[-1] + k3[1], fpp[-1] + k3[2], -0.5*(f[-1]+k3[0])*(fpp[-1]+k3[2])])\n",
    "        \n",
    "        # Update next value of f, fp, and fpp\n",
    "        f.append(f[-1] + (k1[0] + 2*k2[0] + 2*k3[0] + k4[0]) / 6)\n",
    "        fp.append(fp[-1] + (k1[1] + 2*k2[1] + 2*k3[1] + k4[1]) / 6)\n",
    "        fpp.append(fpp[-1] + (k1[2] + 2*k2[2] + 2*k3[2] + k4[2]) / 6)\n",
    "\n",
    "    return np.array(f), np.array(fp), np.array(fpp), eta\n",
    "\n",
    "# Now we implement the secant method to adjust f1(0) to achieve f2(infinity) = 1.\n",
    "def secant_method(f1_0_guesses, tol=1e-7, eta_max=8.0, h=0.1):\n",
    "    f1_0_old, f1_0_new = f1_0_guesses\n",
    "    f2_old = runge_kutta_4th_order(f1_0_old, eta_max, h)[1][-1]\n",
    "    \n",
    "    for i in range(100):  # Limit iterations to prevent infinite loops\n",
    "        f, fp, fpp, _ = runge_kutta_4th_order(f1_0_new, eta_max, h)\n",
    "        f2_new = fp[-1]\n",
    "        \n",
    "        if abs(f2_new - 1) < tol:\n",
    "            # Convergence achieved\n",
    "            return f, fp, fpp, f2_new, i\n",
    "        \n",
    "        # Secant method update\n",
    "        f1_0_temp = f1_0_new\n",
    "        f1_0_new = f1_0_new - (f2_new - 1) * (f1_0_new - f1_0_old) / (f2_new - f2_old)\n",
    "        f1_0_old, f2_old = f1_0_temp, f2_new\n",
    "    \n",
    "    raise RuntimeError(\"Secant method did not converge after 100 iterations\")\n",
    "\n",
    "# Initial guesses for f1(0)\n",
    "f1_0_guesses = [0.01, 5.0]\n",
    "\n",
    "# Perform the secant method to find the solution\n",
    "f, fp, fpp, _, i = secant_method(f1_0_guesses)\n",
    "\n",
    "# Plot the solution\n",
    "plt.figure(figsize=(8, 6))\n",
    "plt.plot(f, fp, label=r\"$f'(\\eta)$\")\n",
    "plt.plot(f, fpp, label=r\"$f''(\\eta)$\")\n",
    "plt.xlabel(r\"$f(\\eta)$\")\n",
    "plt.ylabel(r\"$f'(\\eta), f''(\\eta)$\")\n",
    "plt.legend()\n",
    "plt.title(f\"Solution after {i} iterations\")\n",
    "plt.show()\n"
   ]
  },
  {
   "cell_type": "code",
   "outputs": [],
   "source": [
    "import matplotlib.pyplot as plt\n",
    "plt.plot(1, 1)\n",
    "plt.show()"
   ],
   "metadata": {
    "collapsed": false,
    "is_executing": true,
    "ExecuteTime": {
     "start_time": "2024-04-22T17:09:58.136689Z"
    }
   },
   "id": "287de720fd9dc26a",
   "execution_count": null
  },
  {
   "cell_type": "code",
   "outputs": [],
   "source": [],
   "metadata": {
    "collapsed": false
   },
   "id": "34285b09d6da74ad"
  }
 ],
 "metadata": {
  "kernelspec": {
   "display_name": "Python 3",
   "language": "python",
   "name": "python3"
  },
  "language_info": {
   "codemirror_mode": {
    "name": "ipython",
    "version": 2
   },
   "file_extension": ".py",
   "mimetype": "text/x-python",
   "name": "python",
   "nbconvert_exporter": "python",
   "pygments_lexer": "ipython2",
   "version": "2.7.6"
  }
 },
 "nbformat": 4,
 "nbformat_minor": 5
}
